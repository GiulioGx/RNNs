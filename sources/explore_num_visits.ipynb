{
 "cells": [
  {
   "cell_type": "code",
   "execution_count": 20,
   "metadata": {},
   "outputs": [],
   "source": [
    "from Paths import Paths\n",
    "from datasets.LupusDataset import LupusDataset, PerPatienceTargets\n",
    "import numpy as np\n",
    "from datasets.LupusFilter import TemporalSpanFilter\n",
    "import matplotlib.mlab as mlab\n",
    "import matplotlib.pyplot as plt"
   ]
  },
  {
   "cell_type": "code",
   "execution_count": 58,
   "metadata": {},
   "outputs": [],
   "source": [
    "min_age_lower = 0.8  # 0.8, 1, 2]\n",
    "min_age_upper = 0.8  # [0.8, 1, 2]\n",
    "min_visits_neg = 1  # [1, 2, 3, 4, 5]\n",
    "min_visits_pos = 1\n",
    "strategy = PerPatienceTargets()\n",
    "\n",
    "dataset = LupusDataset.no_test_dataset(Paths.lupus_path, strategy=strategy,\n",
    "                                       visit_selector=TemporalSpanFilter(min_age_span_upper=min_age_upper,\n",
    "                                                                         min_age_span_lower=min_age_lower,\n",
    "                                                                         min_visits_neg=min_visits_neg,\n",
    "                                                                         min_visits_pos=min_visits_pos))"
   ]
  },
  {
   "cell_type": "code",
   "execution_count": 59,
   "metadata": {},
   "outputs": [],
   "source": [
    "def get_lengths(data):\n",
    "    lengths = []\n",
    "    for i in range(data.shape[1]):\n",
    "        l = np.argmax(data[:, i])\n",
    "        lengths.append(l)\n",
    "    return lengths"
   ]
  },
  {
   "cell_type": "code",
   "execution_count": 60,
   "metadata": {},
   "outputs": [],
   "source": [
    "neg = dataset.split_train[\"neg\"].mask.squeeze()\n",
    "length_neg = get_lengths(neg)\n",
    "pos = dataset.split_train[\"late_pos\"].mask.squeeze()\n",
    "length_pos = get_lengths(pos)"
   ]
  },
  {
   "cell_type": "code",
   "execution_count": 61,
   "metadata": {
    "collapsed": true
   },
   "outputs": [
    {
     "data": {
      "image/png": "[encoded data removed]",
      "text/plain": [
       "<matplotlib.figure.Figure at 0x7ff4bf32bda0>"
      ]
     },
     "metadata": {},
     "output_type": "display_data"
    }
   ],
   "source": [
    "# the histogram of the data\n",
    "n, bins, patches = plt.hist([np.array(length_neg), np.array(length_pos)], normed=1, label=['negatives', 'positives'])\n",
    "plt.savefig('istogramma')\n",
    "plt.show()"
   ]
  },
  {
   "cell_type": "code",
   "execution_count": 55,
   "metadata": {},
   "outputs": [
    {
     "data": {
      "text/plain": [
       "array([  1. ,   2.4,   3.8,   5.2,   6.6,   8. ,   9.4,  10.8,  12.2,\n        13.6,  15. ])"
      ]
     },
     "execution_count": 55,
     "metadata": {},
     "output_type": "execute_result"
    }
   ],
   "source": [
    "bins"
   ]
  },
  {
   "cell_type": "code",
   "execution_count": null,
   "metadata": {},
   "outputs": [],
   "source": [
    ""
   ]
  }
 ],
 "metadata": {
  "kernelspec": {
   "display_name": "Python 2",
   "language": "python",
   "name": "python2"
  },
  "language_info": {
   "codemirror_mode": {
    "name": "ipython",
    "version": 2.0
   },
   "file_extension": ".py",
   "mimetype": "text/x-python",
   "name": "python",
   "nbconvert_exporter": "python",
   "pygments_lexer": "ipython2",
   "version": "2.7.6"
  }
 },
 "nbformat": 4,
 "nbformat_minor": 0
}