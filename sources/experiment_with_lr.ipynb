{
 "cells": [
  {
   "cell_type": "code",
   "execution_count": 64,
   "metadata": {
    "collapsed": true
   },
   "outputs": [],
   "source": [
    "import numpy as np\n",
    "import pickle"
   ]
  },
  {
   "cell_type": "code",
   "execution_count": 56,
   "metadata": {
    "collapsed": true
   },
   "outputs": [],
   "source": [
    "lr = 0.1\n",
    "thr = 1"
   ]
  },
  {
   "cell_type": "code",
   "execution_count": 57,
   "metadata": {
    "collapsed": true
   },
   "outputs": [],
   "source": [
    "v = np.array([0.1, 0.5, 0.8, 1.2])"
   ]
  },
  {
   "cell_type": "code",
   "execution_count": 58,
   "metadata": {
    "collapsed": true
   },
   "outputs": [],
   "source": [
    "def norm(v, type:str):\n",
    "    return np.sqrt(np.sum(v**2)) if type==\"l2\" else max(abs(v))"
   ]
  },
  {
   "cell_type": "code",
   "execution_count": 59,
   "metadata": {
    "collapsed": false
   },
   "outputs": [],
   "source": [
    "# n = norm(v, \"l2\")"
   ]
  },
  {
   "cell_type": "code",
   "execution_count": 60,
   "metadata": {
    "collapsed": false
   },
   "outputs": [],
   "source": [
    "n = norm(v, \"l1\")"
   ]
  },
  {
   "cell_type": "code",
   "execution_count": 61,
   "metadata": {
    "collapsed": false
   },
   "outputs": [
    {
     "name": "stdout",
     "output_type": "stream",
     "text": [
      "1.2\n"
     ]
    }
   ],
   "source": [
    "print(n)"
   ]
  },
  {
   "cell_type": "code",
   "execution_count": 84,
   "metadata": {
    "collapsed": true
   },
   "outputs": [],
   "source": [
    "d = lr * v\n",
    "d *= thr/n if n > thr else 1"
   ]
  },
  {
   "cell_type": "code",
   "execution_count": 85,
   "metadata": {
    "collapsed": false
   },
   "outputs": [
    {
     "name": "stdout",
     "output_type": "stream",
     "text": [
      "[ 0.00833333  0.04166667  0.06666667  0.1       ]\n"
     ]
    }
   ],
   "source": [
    "print(d)"
   ]
  },
  {
   "cell_type": "code",
   "execution_count": 86,
   "metadata": {
    "collapsed": false
   },
   "outputs": [],
   "source": [
    "d = np.load(\"/home/galvan/development/RNNs/models/temporal_order, min_length: 150/stats.npz\")"
   ]
  },
  {
   "cell_type": "code",
   "execution_count": 87,
   "metadata": {
    "collapsed": false
   },
   "outputs": [
    {
     "data": {
      "text/plain": [
       "['singular_var',\n",
       " 'dir_norm',\n",
       " 'settings_batch_size',\n",
       " 'time_tot',\n",
       " 'rho',\n",
       " 'net_n_hidden',\n",
       " 'grad_dot',\n",
       " 'validation_error_best',\n",
       " 'net_n_out',\n",
       " 'net_output_fnc',\n",
       " 'validation_loss',\n",
       " 'time_eval',\n",
       " 'net_activation_fnc',\n",
       " 'lr',\n",
       " 'settings_check_freq',\n",
       " 'max_singular',\n",
       " 'net_n_in',\n",
       " 'elapsed_time',\n",
       " 'obj_g_var',\n",
       " 'obj_loss_value',\n",
       " 'obj_loss_grad',\n",
       " 'settings_max_it',\n",
       " 'iteration',\n",
       " 'task',\n",
       " 'length',\n",
       " 'obj_dots_var',\n",
       " 'net_max_singular',\n",
       " '@@',\n",
       " 'net_rho',\n",
       " 'validation_error_curr',\n",
       " 'net_singular_var']"
      ]
     },
     "execution_count": 87,
     "metadata": {},
     "output_type": "execute_result"
    }
   ],
   "source": [
    "d.keys()"
   ]
  },
  {
   "cell_type": "code",
   "execution_count": 88,
   "metadata": {
    "collapsed": false
   },
   "outputs": [
    {
     "data": {
      "text/plain": [
       "0.05"
      ]
     },
     "execution_count": 88,
     "metadata": {},
     "output_type": "execute_result"
    }
   ],
   "source": [
    "round(d[\"validation_loss\"][-1].item(), 2)"
   ]
  },
  {
   "cell_type": "code",
   "execution_count": 90,
   "metadata": {
    "collapsed": true
   },
   "outputs": [],
   "source": [
    "res = pickle.load(open(\"/home/galvan/development/RNNs/models/multi_diag_150_zara/results.pkl\", \"rb\"))"
   ]
  },
  {
   "cell_type": "code",
   "execution_count": 93,
   "metadata": {
    "collapsed": false
   },
   "outputs": [
    {
     "data": {
      "text/plain": [
       "{'clip_thr': 0.01,\n",
       " 'eig_mean': 1.0,\n",
       " 'id': 0,\n",
       " 'loss': 0.28,\n",
       " 'lr': 0.001,\n",
       " 'n_iters': 5960,\n",
       " 'n_succ': 1,\n",
       " 'std_dev': 0.01}"
      ]
     },
     "execution_count": 93,
     "metadata": {},
     "output_type": "execute_result"
    }
   ],
   "source": [
    "res[0]"
   ]
  },
  {
   "cell_type": "code",
   "execution_count": null,
   "metadata": {
    "collapsed": true
   },
   "outputs": [],
   "source": []
  }
 ],
 "metadata": {
  "kernelspec": {
   "display_name": "Python 3",
   "language": "python",
   "name": "python3"
  },
  "language_info": {
   "codemirror_mode": {
    "name": "ipython",
    "version": 3
   },
   "file_extension": ".py",
   "mimetype": "text/x-python",
   "name": "python",
   "nbconvert_exporter": "python",
   "pygments_lexer": "ipython3",
   "version": "3.5.2"
  }
 },
 "nbformat": 4,
 "nbformat_minor": 1
}
